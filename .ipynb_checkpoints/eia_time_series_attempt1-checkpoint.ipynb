{
 "cells": [
  {
   "cell_type": "code",
   "execution_count": 1,
   "metadata": {},
   "outputs": [],
   "source": [
    "# Dependencies\n",
    "import matplotlib.pyplot as plt\n",
    "%matplotlib inline \n",
    "from matplotlib.pyplot import rcParams\n",
    "rcParams['figure.figsize']=10,6\n",
    "import numpy as np\n",
    "import pandas as pd\n",
    "import requests\n",
    "from config import api_key\n",
    "import eia\n",
    "import datetime\n",
    "import re\n",
    "from sqlalchemy import create_engine\n",
    "from datetime import datetime"
   ]
  },
  {
   "cell_type": "code",
   "execution_count": 2,
   "metadata": {},
   "outputs": [
    {
     "data": {
      "text/plain": [
       "'021bf1d89256205c8528b6d4475485b3'"
      ]
     },
     "execution_count": 2,
     "metadata": {},
     "output_type": "execute_result"
    }
   ],
   "source": [
    "# test if api_key variable works\n",
    "# (remove this line output when making public)\n",
    "api_key"
   ]
  },
  {
   "cell_type": "code",
   "execution_count": 3,
   "metadata": {},
   "outputs": [],
   "source": [
    "# save variable to call in api data w/ key\n",
    "api = eia.API(api_key)"
   ]
  },
  {
   "cell_type": "code",
   "execution_count": 4,
   "metadata": {},
   "outputs": [],
   "source": [
    "# save all relevant api endings as an iterable object\n",
    "series = ['TOTAL.TEICBUS.M','TOTAL.TERCBUS.M','TOTAL.TEACBUS.M','TOTAL.TXCCBUS.M','TOTAL.TXEIBUS.M','TOTAL.TXICBUS.M','TOTAL.TXRCBUS.M','TOTAL.TXACBUS.M','TOTAL.TETCBUS.M']"
   ]
  },
  {
   "cell_type": "code",
   "execution_count": 5,
   "metadata": {},
   "outputs": [
    {
     "data": {
      "text/html": [
       "<div>\n",
       "<style scoped>\n",
       "    .dataframe tbody tr th:only-of-type {\n",
       "        vertical-align: middle;\n",
       "    }\n",
       "\n",
       "    .dataframe tbody tr th {\n",
       "        vertical-align: top;\n",
       "    }\n",
       "\n",
       "    .dataframe thead th {\n",
       "        text-align: right;\n",
       "    }\n",
       "</style>\n",
       "<table border=\"1\" class=\"dataframe\">\n",
       "  <thead>\n",
       "    <tr style=\"text-align: right;\">\n",
       "      <th></th>\n",
       "      <th>Total Energy Consumed by the Commercial Sector, Monthly (Trillion Btu)</th>\n",
       "    </tr>\n",
       "  </thead>\n",
       "  <tbody>\n",
       "    <tr>\n",
       "      <th>1973 01</th>\n",
       "      <td>1079.310</td>\n",
       "    </tr>\n",
       "    <tr>\n",
       "      <th>1973 02</th>\n",
       "      <td>1001.920</td>\n",
       "    </tr>\n",
       "    <tr>\n",
       "      <th>1973 03</th>\n",
       "      <td>884.437</td>\n",
       "    </tr>\n",
       "    <tr>\n",
       "      <th>1973 04</th>\n",
       "      <td>735.461</td>\n",
       "    </tr>\n",
       "    <tr>\n",
       "      <th>1973 05</th>\n",
       "      <td>696.114</td>\n",
       "    </tr>\n",
       "  </tbody>\n",
       "</table>\n",
       "</div>"
      ],
      "text/plain": [
       "          Total Energy Consumed by the Commercial Sector, Monthly (Trillion Btu)\n",
       "1973 01                                            1079.310                     \n",
       "1973 02                                            1001.920                     \n",
       "1973 03                                             884.437                     \n",
       "1973 04                                             735.461                     \n",
       "1973 05                                             696.114                     "
      ]
     },
     "execution_count": 5,
     "metadata": {},
     "output_type": "execute_result"
    }
   ],
   "source": [
    "# test one api ending; import to pandas dataframe\n",
    "test_import = api.data_by_series(series='TOTAL.TECCBUS.M')\n",
    "eia_df = pd.DataFrame(test_import)\n",
    "eia_df.head()"
   ]
  },
  {
   "cell_type": "code",
   "execution_count": 6,
   "metadata": {},
   "outputs": [],
   "source": [
    "# iterate through api endings and save to above dataframe\n",
    "for x in series:\n",
    "    series_search = api.data_by_series(series=x)\n",
    "    df = pd.DataFrame(series_search)\n",
    "    eia_df = eia_df.join(df, how=\"outer\")\n"
   ]
  },
  {
   "cell_type": "code",
   "execution_count": 7,
   "metadata": {},
   "outputs": [
    {
     "data": {
      "text/html": [
       "<div>\n",
       "<style scoped>\n",
       "    .dataframe tbody tr th:only-of-type {\n",
       "        vertical-align: middle;\n",
       "    }\n",
       "\n",
       "    .dataframe tbody tr th {\n",
       "        vertical-align: top;\n",
       "    }\n",
       "\n",
       "    .dataframe thead th {\n",
       "        text-align: right;\n",
       "    }\n",
       "</style>\n",
       "<table border=\"1\" class=\"dataframe\">\n",
       "  <thead>\n",
       "    <tr style=\"text-align: right;\">\n",
       "      <th></th>\n",
       "      <th>Total Energy Consumed by the Commercial Sector, Monthly (Trillion Btu)</th>\n",
       "      <th>Total Energy Consumed by the Industrial Sector, Monthly (Trillion Btu)</th>\n",
       "      <th>Total Energy Consumed by the Residential Sector, Monthly (Trillion Btu)</th>\n",
       "      <th>Total Energy Consumed by the Transportation Sector, Monthly (Trillion Btu)</th>\n",
       "      <th>Total Primary Energy Consumed by the Commercial Sector, Monthly (Trillion Btu)</th>\n",
       "      <th>Total Primary Energy Consumed by the Electric Power Sector, Monthly (Trillion Btu)</th>\n",
       "      <th>Total Primary Energy Consumed by the Industrial Sector, Monthly (Trillion Btu)</th>\n",
       "      <th>Total Primary Energy Consumed by the Residential Sector, Monthly (Trillion Btu)</th>\n",
       "      <th>Total Primary Energy Consumed by the Transportation Sector, Monthly (Trillion Btu)</th>\n",
       "      <th>Total Primary Energy Consumption, Monthly (Trillion Btu)</th>\n",
       "    </tr>\n",
       "  </thead>\n",
       "  <tbody>\n",
       "    <tr>\n",
       "      <th>2018 05</th>\n",
       "      <td>1435.837</td>\n",
       "      <td>2747.383</td>\n",
       "      <td>1378.514</td>\n",
       "      <td>2462.406</td>\n",
       "      <td>253.900</td>\n",
       "      <td>3128.758</td>\n",
       "      <td>1892.474</td>\n",
       "      <td>292.806</td>\n",
       "      <td>2456.202</td>\n",
       "      <td>8021.157</td>\n",
       "    </tr>\n",
       "    <tr>\n",
       "      <th>2018 06</th>\n",
       "      <td>1474.673</td>\n",
       "      <td>2679.517</td>\n",
       "      <td>1562.457</td>\n",
       "      <td>2431.309</td>\n",
       "      <td>228.150</td>\n",
       "      <td>3416.029</td>\n",
       "      <td>1843.755</td>\n",
       "      <td>235.152</td>\n",
       "      <td>2424.870</td>\n",
       "      <td>8149.256</td>\n",
       "    </tr>\n",
       "    <tr>\n",
       "      <th>2018 07</th>\n",
       "      <td>1556.004</td>\n",
       "      <td>2761.916</td>\n",
       "      <td>1782.894</td>\n",
       "      <td>2501.553</td>\n",
       "      <td>223.335</td>\n",
       "      <td>3762.883</td>\n",
       "      <td>1895.952</td>\n",
       "      <td>225.157</td>\n",
       "      <td>2495.040</td>\n",
       "      <td>8606.516</td>\n",
       "    </tr>\n",
       "    <tr>\n",
       "      <th>2018 08</th>\n",
       "      <td>1559.876</td>\n",
       "      <td>2871.840</td>\n",
       "      <td>1729.648</td>\n",
       "      <td>2545.495</td>\n",
       "      <td>227.456</td>\n",
       "      <td>3733.591</td>\n",
       "      <td>1991.439</td>\n",
       "      <td>215.682</td>\n",
       "      <td>2538.692</td>\n",
       "      <td>8707.549</td>\n",
       "    </tr>\n",
       "    <tr>\n",
       "      <th>2018 09</th>\n",
       "      <td>1422.358</td>\n",
       "      <td>2648.561</td>\n",
       "      <td>1488.834</td>\n",
       "      <td>2313.560</td>\n",
       "      <td>230.369</td>\n",
       "      <td>3253.682</td>\n",
       "      <td>1852.436</td>\n",
       "      <td>229.623</td>\n",
       "      <td>2307.205</td>\n",
       "      <td>7870.618</td>\n",
       "    </tr>\n",
       "  </tbody>\n",
       "</table>\n",
       "</div>"
      ],
      "text/plain": [
       "          Total Energy Consumed by the Commercial Sector, Monthly (Trillion Btu)  \\\n",
       "2018 05                                            1435.837                        \n",
       "2018 06                                            1474.673                        \n",
       "2018 07                                            1556.004                        \n",
       "2018 08                                            1559.876                        \n",
       "2018 09                                            1422.358                        \n",
       "\n",
       "          Total Energy Consumed by the Industrial Sector, Monthly (Trillion Btu)  \\\n",
       "2018 05                                            2747.383                        \n",
       "2018 06                                            2679.517                        \n",
       "2018 07                                            2761.916                        \n",
       "2018 08                                            2871.840                        \n",
       "2018 09                                            2648.561                        \n",
       "\n",
       "          Total Energy Consumed by the Residential Sector, Monthly (Trillion Btu)  \\\n",
       "2018 05                                            1378.514                         \n",
       "2018 06                                            1562.457                         \n",
       "2018 07                                            1782.894                         \n",
       "2018 08                                            1729.648                         \n",
       "2018 09                                            1488.834                         \n",
       "\n",
       "          Total Energy Consumed by the Transportation Sector, Monthly (Trillion Btu)  \\\n",
       "2018 05                                            2462.406                            \n",
       "2018 06                                            2431.309                            \n",
       "2018 07                                            2501.553                            \n",
       "2018 08                                            2545.495                            \n",
       "2018 09                                            2313.560                            \n",
       "\n",
       "          Total Primary Energy Consumed by the Commercial Sector, Monthly (Trillion Btu)  \\\n",
       "2018 05                                             253.900                                \n",
       "2018 06                                             228.150                                \n",
       "2018 07                                             223.335                                \n",
       "2018 08                                             227.456                                \n",
       "2018 09                                             230.369                                \n",
       "\n",
       "          Total Primary Energy Consumed by the Electric Power Sector, Monthly (Trillion Btu)  \\\n",
       "2018 05                                            3128.758                                    \n",
       "2018 06                                            3416.029                                    \n",
       "2018 07                                            3762.883                                    \n",
       "2018 08                                            3733.591                                    \n",
       "2018 09                                            3253.682                                    \n",
       "\n",
       "          Total Primary Energy Consumed by the Industrial Sector, Monthly (Trillion Btu)  \\\n",
       "2018 05                                            1892.474                                \n",
       "2018 06                                            1843.755                                \n",
       "2018 07                                            1895.952                                \n",
       "2018 08                                            1991.439                                \n",
       "2018 09                                            1852.436                                \n",
       "\n",
       "          Total Primary Energy Consumed by the Residential Sector, Monthly (Trillion Btu)  \\\n",
       "2018 05                                             292.806                                 \n",
       "2018 06                                             235.152                                 \n",
       "2018 07                                             225.157                                 \n",
       "2018 08                                             215.682                                 \n",
       "2018 09                                             229.623                                 \n",
       "\n",
       "          Total Primary Energy Consumed by the Transportation Sector, Monthly (Trillion Btu)  \\\n",
       "2018 05                                            2456.202                                    \n",
       "2018 06                                            2424.870                                    \n",
       "2018 07                                            2495.040                                    \n",
       "2018 08                                            2538.692                                    \n",
       "2018 09                                            2307.205                                    \n",
       "\n",
       "          Total Primary Energy Consumption, Monthly (Trillion Btu)  \n",
       "2018 05                                            8021.157         \n",
       "2018 06                                            8149.256         \n",
       "2018 07                                            8606.516         \n",
       "2018 08                                            8707.549         \n",
       "2018 09                                            7870.618         "
      ]
     },
     "execution_count": 7,
     "metadata": {},
     "output_type": "execute_result"
    }
   ],
   "source": [
    "# print all data in df\n",
    "eia_df.tail()"
   ]
  },
  {
   "cell_type": "code",
   "execution_count": 8,
   "metadata": {},
   "outputs": [
    {
     "data": {
      "text/html": [
       "<div>\n",
       "<style scoped>\n",
       "    .dataframe tbody tr th:only-of-type {\n",
       "        vertical-align: middle;\n",
       "    }\n",
       "\n",
       "    .dataframe tbody tr th {\n",
       "        vertical-align: top;\n",
       "    }\n",
       "\n",
       "    .dataframe thead th {\n",
       "        text-align: right;\n",
       "    }\n",
       "</style>\n",
       "<table border=\"1\" class=\"dataframe\">\n",
       "  <thead>\n",
       "    <tr style=\"text-align: right;\">\n",
       "      <th></th>\n",
       "      <th>Time</th>\n",
       "      <th>Total Energy Consumed by the Commercial Sector, Monthly (Trillion Btu)</th>\n",
       "      <th>Total Energy Consumed by the Industrial Sector, Monthly (Trillion Btu)</th>\n",
       "      <th>Total Energy Consumed by the Residential Sector, Monthly (Trillion Btu)</th>\n",
       "      <th>Total Energy Consumed by the Transportation Sector, Monthly (Trillion Btu)</th>\n",
       "      <th>Total Primary Energy Consumed by the Commercial Sector, Monthly (Trillion Btu)</th>\n",
       "      <th>Total Primary Energy Consumed by the Electric Power Sector, Monthly (Trillion Btu)</th>\n",
       "      <th>Total Primary Energy Consumed by the Industrial Sector, Monthly (Trillion Btu)</th>\n",
       "      <th>Total Primary Energy Consumed by the Residential Sector, Monthly (Trillion Btu)</th>\n",
       "      <th>Total Primary Energy Consumed by the Transportation Sector, Monthly (Trillion Btu)</th>\n",
       "      <th>Total Primary Energy Consumption, Monthly (Trillion Btu)</th>\n",
       "    </tr>\n",
       "  </thead>\n",
       "  <tbody>\n",
       "    <tr>\n",
       "      <th>0</th>\n",
       "      <td>1973 01</td>\n",
       "      <td>1079.310</td>\n",
       "      <td>2701.524</td>\n",
       "      <td>1932.187</td>\n",
       "      <td>1509.552</td>\n",
       "      <td>656.607</td>\n",
       "      <td>1691.096</td>\n",
       "      <td>2054.675</td>\n",
       "      <td>1313.816</td>\n",
       "      <td>1506.380</td>\n",
       "      <td>7226.265</td>\n",
       "    </tr>\n",
       "    <tr>\n",
       "      <th>1</th>\n",
       "      <td>1973 02</td>\n",
       "      <td>1001.920</td>\n",
       "      <td>2460.752</td>\n",
       "      <td>1687.255</td>\n",
       "      <td>1442.127</td>\n",
       "      <td>621.766</td>\n",
       "      <td>1511.458</td>\n",
       "      <td>1869.459</td>\n",
       "      <td>1150.011</td>\n",
       "      <td>1439.361</td>\n",
       "      <td>6594.709</td>\n",
       "    </tr>\n",
       "    <tr>\n",
       "      <th>2</th>\n",
       "      <td>1973 03</td>\n",
       "      <td>884.437</td>\n",
       "      <td>2579.613</td>\n",
       "      <td>1497.067</td>\n",
       "      <td>1564.016</td>\n",
       "      <td>490.154</td>\n",
       "      <td>1559.159</td>\n",
       "      <td>1944.295</td>\n",
       "      <td>970.362</td>\n",
       "      <td>1561.162</td>\n",
       "      <td>6524.198</td>\n",
       "    </tr>\n",
       "    <tr>\n",
       "      <th>3</th>\n",
       "      <td>1973 04</td>\n",
       "      <td>735.461</td>\n",
       "      <td>2550.210</td>\n",
       "      <td>1177.661</td>\n",
       "      <td>1482.632</td>\n",
       "      <td>362.003</td>\n",
       "      <td>1470.152</td>\n",
       "      <td>1924.207</td>\n",
       "      <td>709.631</td>\n",
       "      <td>1479.971</td>\n",
       "      <td>5944.336</td>\n",
       "    </tr>\n",
       "    <tr>\n",
       "      <th>4</th>\n",
       "      <td>1973 05</td>\n",
       "      <td>696.114</td>\n",
       "      <td>2741.810</td>\n",
       "      <td>1015.008</td>\n",
       "      <td>1624.436</td>\n",
       "      <td>289.109</td>\n",
       "      <td>1551.631</td>\n",
       "      <td>2070.447</td>\n",
       "      <td>544.596</td>\n",
       "      <td>1621.585</td>\n",
       "      <td>6074.551</td>\n",
       "    </tr>\n",
       "  </tbody>\n",
       "</table>\n",
       "</div>"
      ],
      "text/plain": [
       "       Time  \\\n",
       "0  1973 01    \n",
       "1  1973 02    \n",
       "2  1973 03    \n",
       "3  1973 04    \n",
       "4  1973 05    \n",
       "\n",
       "   Total Energy Consumed by the Commercial Sector, Monthly (Trillion Btu)  \\\n",
       "0                                           1079.310                        \n",
       "1                                           1001.920                        \n",
       "2                                            884.437                        \n",
       "3                                            735.461                        \n",
       "4                                            696.114                        \n",
       "\n",
       "   Total Energy Consumed by the Industrial Sector, Monthly (Trillion Btu)  \\\n",
       "0                                           2701.524                        \n",
       "1                                           2460.752                        \n",
       "2                                           2579.613                        \n",
       "3                                           2550.210                        \n",
       "4                                           2741.810                        \n",
       "\n",
       "   Total Energy Consumed by the Residential Sector, Monthly (Trillion Btu)  \\\n",
       "0                                           1932.187                         \n",
       "1                                           1687.255                         \n",
       "2                                           1497.067                         \n",
       "3                                           1177.661                         \n",
       "4                                           1015.008                         \n",
       "\n",
       "   Total Energy Consumed by the Transportation Sector, Monthly (Trillion Btu)  \\\n",
       "0                                           1509.552                            \n",
       "1                                           1442.127                            \n",
       "2                                           1564.016                            \n",
       "3                                           1482.632                            \n",
       "4                                           1624.436                            \n",
       "\n",
       "   Total Primary Energy Consumed by the Commercial Sector, Monthly (Trillion Btu)  \\\n",
       "0                                            656.607                                \n",
       "1                                            621.766                                \n",
       "2                                            490.154                                \n",
       "3                                            362.003                                \n",
       "4                                            289.109                                \n",
       "\n",
       "   Total Primary Energy Consumed by the Electric Power Sector, Monthly (Trillion Btu)  \\\n",
       "0                                           1691.096                                    \n",
       "1                                           1511.458                                    \n",
       "2                                           1559.159                                    \n",
       "3                                           1470.152                                    \n",
       "4                                           1551.631                                    \n",
       "\n",
       "   Total Primary Energy Consumed by the Industrial Sector, Monthly (Trillion Btu)  \\\n",
       "0                                           2054.675                                \n",
       "1                                           1869.459                                \n",
       "2                                           1944.295                                \n",
       "3                                           1924.207                                \n",
       "4                                           2070.447                                \n",
       "\n",
       "   Total Primary Energy Consumed by the Residential Sector, Monthly (Trillion Btu)  \\\n",
       "0                                           1313.816                                 \n",
       "1                                           1150.011                                 \n",
       "2                                            970.362                                 \n",
       "3                                            709.631                                 \n",
       "4                                            544.596                                 \n",
       "\n",
       "   Total Primary Energy Consumed by the Transportation Sector, Monthly (Trillion Btu)  \\\n",
       "0                                           1506.380                                    \n",
       "1                                           1439.361                                    \n",
       "2                                           1561.162                                    \n",
       "3                                           1479.971                                    \n",
       "4                                           1621.585                                    \n",
       "\n",
       "   Total Primary Energy Consumption, Monthly (Trillion Btu)  \n",
       "0                                           7226.265         \n",
       "1                                           6594.709         \n",
       "2                                           6524.198         \n",
       "3                                           5944.336         \n",
       "4                                           6074.551         "
      ]
     },
     "execution_count": 8,
     "metadata": {},
     "output_type": "execute_result"
    }
   ],
   "source": [
    "# create numeric index (unique identifier)\n",
    "eia_df = eia_df.reset_index()\n",
    "eia_df = eia_df.rename(columns={\"index\":\"Time\"})\n",
    "eia_df.head()"
   ]
  },
  {
   "cell_type": "code",
   "execution_count": 9,
   "metadata": {},
   "outputs": [],
   "source": [
    "# new dataframe with just datestamp and total usage. Adjust here to test of different datasets.\n",
    "total_monthly_df = eia_df[[\"Time\", \"Total Primary Energy Consumption, Monthly (Trillion Btu)\"]]\n",
    "\n",
    "\n",
    "# time column still needs to be converted to datetime for time series analysis"
   ]
  },
  {
   "cell_type": "code",
   "execution_count": 10,
   "metadata": {},
   "outputs": [],
   "source": [
    "# create object for existing timestamp column and an empty list for converted timestamp\n",
    "timestamp = total_monthly_df[\"Time\"]\n",
    "datetime_list = []"
   ]
  },
  {
   "cell_type": "code",
   "execution_count": 11,
   "metadata": {},
   "outputs": [],
   "source": [
    "# fill empty list with dates converted to datetime\n",
    "for i in timestamp:\n",
    "    i = i.replace(\" \", \"-\")\n",
    "    i = i + \"01\"\n",
    "    i = pd.to_datetime(i, infer_datetime_format = True)\n",
    "    datetime_list.append(i)"
   ]
  },
  {
   "cell_type": "code",
   "execution_count": 12,
   "metadata": {},
   "outputs": [],
   "source": [
    "# convert to array so it can be added to pandas df\n",
    "datetime_array = np.asarray(datetime_list)"
   ]
  },
  {
   "cell_type": "code",
   "execution_count": 13,
   "metadata": {},
   "outputs": [
    {
     "name": "stderr",
     "output_type": "stream",
     "text": [
      "/Users/julia/anaconda3/envs/PythonData/lib/python3.6/site-packages/ipykernel/__main__.py:2: SettingWithCopyWarning: \n",
      "A value is trying to be set on a copy of a slice from a DataFrame.\n",
      "Try using .loc[row_indexer,col_indexer] = value instead\n",
      "\n",
      "See the caveats in the documentation: http://pandas.pydata.org/pandas-docs/stable/indexing.html#indexing-view-versus-copy\n",
      "  from ipykernel import kernelapp as app\n"
     ]
    }
   ],
   "source": [
    "# add datetime array to total consumption df\n",
    "total_monthly_df['Date'] = datetime_array"
   ]
  },
  {
   "cell_type": "code",
   "execution_count": 14,
   "metadata": {},
   "outputs": [
    {
     "data": {
      "text/html": [
       "<div>\n",
       "<style scoped>\n",
       "    .dataframe tbody tr th:only-of-type {\n",
       "        vertical-align: middle;\n",
       "    }\n",
       "\n",
       "    .dataframe tbody tr th {\n",
       "        vertical-align: top;\n",
       "    }\n",
       "\n",
       "    .dataframe thead th {\n",
       "        text-align: right;\n",
       "    }\n",
       "</style>\n",
       "<table border=\"1\" class=\"dataframe\">\n",
       "  <thead>\n",
       "    <tr style=\"text-align: right;\">\n",
       "      <th></th>\n",
       "      <th>Total Primary Energy Consumption, Monthly (Trillion Btu)</th>\n",
       "    </tr>\n",
       "    <tr>\n",
       "      <th>Date</th>\n",
       "      <th></th>\n",
       "    </tr>\n",
       "  </thead>\n",
       "  <tbody>\n",
       "    <tr>\n",
       "      <th>2018-05-01</th>\n",
       "      <td>8021.157</td>\n",
       "    </tr>\n",
       "    <tr>\n",
       "      <th>2018-06-01</th>\n",
       "      <td>8149.256</td>\n",
       "    </tr>\n",
       "    <tr>\n",
       "      <th>2018-07-01</th>\n",
       "      <td>8606.516</td>\n",
       "    </tr>\n",
       "    <tr>\n",
       "      <th>2018-08-01</th>\n",
       "      <td>8707.549</td>\n",
       "    </tr>\n",
       "    <tr>\n",
       "      <th>2018-09-01</th>\n",
       "      <td>7870.618</td>\n",
       "    </tr>\n",
       "  </tbody>\n",
       "</table>\n",
       "</div>"
      ],
      "text/plain": [
       "            Total Primary Energy Consumption, Monthly (Trillion Btu)\n",
       "Date                                                                \n",
       "2018-05-01                                           8021.157       \n",
       "2018-06-01                                           8149.256       \n",
       "2018-07-01                                           8606.516       \n",
       "2018-08-01                                           8707.549       \n",
       "2018-09-01                                           7870.618       "
      ]
     },
     "execution_count": 14,
     "metadata": {},
     "output_type": "execute_result"
    }
   ],
   "source": [
    "raw_df = total_monthly_df[[\"Date\", \"Total Primary Energy Consumption, Monthly (Trillion Btu)\"]]\n",
    "raw_df = raw_df.set_index(\"Date\")\n",
    "raw_df.tail()\n"
   ]
  },
  {
   "cell_type": "markdown",
   "metadata": {},
   "source": [
    "## Start Time Series Testing Here"
   ]
  },
  {
   "cell_type": "code",
   "execution_count": 15,
   "metadata": {},
   "outputs": [
    {
     "data": {
      "text/plain": [
       "[<matplotlib.lines.Line2D at 0x114c3ce10>]"
      ]
     },
     "execution_count": 15,
     "metadata": {},
     "output_type": "execute_result"
    },
    {
     "data": {
      "image/png": "[encoded data removed]",
      "text/plain": [
       "<Figure size 1440x720 with 1 Axes>"
      ]
     },
     "metadata": {},
     "output_type": "display_data"
    }
   ],
   "source": [
    "# raw data line plot\n",
    "plt.figure(figsize=(20,10))\n",
    "plt.title(\"Total US Primary Energy Consumption by Month\")\n",
    "plt.xlabel(\"Year\")\n",
    "plt.ylabel(\"Trillion BTU\")\n",
    "plt.plot(raw_df)"
   ]
  },
  {
   "cell_type": "code",
   "execution_count": 16,
   "metadata": {},
   "outputs": [
    {
     "ename": "ModuleNotFoundError",
     "evalue": "No module named 'plotly'",
     "output_type": "error",
     "traceback": [
      "\u001b[0;31m---------------------------------------------------------------------------\u001b[0m",
      "\u001b[0;31mModuleNotFoundError\u001b[0m                       Traceback (most recent call last)",
      "\u001b[0;32m<ipython-input-16-8952b093710e>\u001b[0m in \u001b[0;36m<module>\u001b[0;34m()\u001b[0m\n\u001b[0;32m----> 1\u001b[0;31m \u001b[0;32mimport\u001b[0m \u001b[0mplotly\u001b[0m\u001b[0;34m.\u001b[0m\u001b[0mplotly\u001b[0m \u001b[0;32mas\u001b[0m \u001b[0mply\u001b[0m\u001b[0;34m\u001b[0m\u001b[0;34m\u001b[0m\u001b[0m\n\u001b[0m\u001b[1;32m      2\u001b[0m \u001b[0;32mimport\u001b[0m \u001b[0mcufflinks\u001b[0m \u001b[0;32mas\u001b[0m \u001b[0mcf\u001b[0m\u001b[0;34m\u001b[0m\u001b[0;34m\u001b[0m\u001b[0m\n\u001b[1;32m      3\u001b[0m \u001b[0mraw_df\u001b[0m\u001b[0;34m.\u001b[0m\u001b[0miplot\u001b[0m\u001b[0;34m(\u001b[0m\u001b[0mtitle\u001b[0m\u001b[0;34m=\u001b[0m\u001b[0;34m\"Energy Consumption Jan 1973-May 2018\"\u001b[0m\u001b[0;34m)\u001b[0m\u001b[0;34m\u001b[0m\u001b[0;34m\u001b[0m\u001b[0m\n",
      "\u001b[0;31mModuleNotFoundError\u001b[0m: No module named 'plotly'"
     ]
    }
   ],
   "source": [
    "import plotly.plotly as ply\n",
    "import cufflinks as cf\n",
    "raw_df.iplot(title=\"Energy Consumption Jan 1973-May 2018\")"
   ]
  },
  {
   "cell_type": "markdown",
   "metadata": {},
   "source": [
    "## Decomposition\n",
    "Here we can see there is an upward trend. We can use statsmodels to perform a decomposition of this time series. The decomposition of time series is a statistical task that deconstructs a time series into several components, each representing one of the underlying categories of patterns. With statsmodels we will be able to see the trend, seasonal, and residual components of our data."
   ]
  },
  {
   "cell_type": "markdown",
   "metadata": {},
   "source": [
    "## Decomposition charts below\n",
    "You have to go to the webpage that it spits out. For me it automatically opens, but you may need my username and password. Not sure. "
   ]
  },
  {
   "cell_type": "code",
   "execution_count": null,
   "metadata": {},
   "outputs": [],
   "source": [
    "import plotly\n",
    "from plotly.plotly import plot_mpl\n",
    "plotly.tools.set_credentials_file(username='cvavoulis', api_key='idvhBcrfyB7GaC6jqdr8')\n",
    "from statsmodels.tsa.seasonal import seasonal_decompose\n",
    "result = seasonal_decompose(raw_df, model='multiplicative')\n",
    "fig = result.plot()\n",
    "plot_mpl(fig)"
   ]
  },
  {
   "cell_type": "markdown",
   "metadata": {},
   "source": [
    "Below we perform a grid search for the optimal parameters. We want the lowes AIC score. AIC is an estimator of the relative quality of statistical models for a given set of data. The AIC value will allow us to compare how well a model fits the data and takes into account the complexity of a model, so models that have a better fit while using fewer features will receive a better (lower) AIC score than similar models that utilize more features.\n",
    "\n",
    "-- I'm pretty sure that it runs this and automatically chooses the best one. In this case the best one is the AIC score of 7068.90 so we use the order parameters of (1,1,1) and seasonal order parameters of (2,1,1,12) \n",
    "\n",
    "-- You can see these results below in the variable \"results\""
   ]
  },
  {
   "cell_type": "code",
   "execution_count": null,
   "metadata": {},
   "outputs": [],
   "source": [
    "from pyramid.arima import auto_arima\n",
    "stepwise_model = auto_arima(raw_df, start_p=1, start_q=1,\n",
    "                           max_p=3, max_q=3, m=12,\n",
    "                           start_P=0, seasonal=True,\n",
    "                           d=1, D=1, trace=True,\n",
    "                           error_action='ignore',  \n",
    "                           suppress_warnings=True, \n",
    "                           stepwise=True)\n",
    "print(stepwise_model.aic())"
   ]
  },
  {
   "cell_type": "code",
   "execution_count": null,
   "metadata": {},
   "outputs": [],
   "source": [
    "# Here we are training on the data from 1973 through the end of 2015. The rest is test data.\n",
    "train = raw_df.loc['1973-01-01':'2015-12-01']\n",
    "test = raw_df.loc['2016-01-01':]\n",
    "len(test)"
   ]
  },
  {
   "cell_type": "code",
   "execution_count": null,
   "metadata": {},
   "outputs": [],
   "source": [
    "# fit the model\n",
    "results=stepwise_model.fit(train)\n",
    "results"
   ]
  },
  {
   "cell_type": "code",
   "execution_count": null,
   "metadata": {},
   "outputs": [],
   "source": [
    "future_forecast = stepwise_model.predict(n_periods=33)\n",
    "# 33 is the length of the test data\n",
    "# below prints the \"forecast\" for the test data\n",
    "print(future_forecast)"
   ]
  },
  {
   "cell_type": "code",
   "execution_count": null,
   "metadata": {},
   "outputs": [],
   "source": [
    "from plotly import __version__\n",
    "from plotly.offline import download_plotlyjs, init_notebook_mode, plot, iplot\n",
    "init_notebook_mode(connected=True)"
   ]
  },
  {
   "cell_type": "code",
   "execution_count": null,
   "metadata": {},
   "outputs": [],
   "source": [
    "# we graph the actual data on top of the forecasted data that we created. It follows the same trend so we know that it was successful \n",
    "future_forecast = pd.DataFrame(future_forecast,index = test.index,columns=['Prediction'])\n",
    "pd.concat([test,future_forecast],axis=1).iplot()\n"
   ]
  },
  {
   "cell_type": "code",
   "execution_count": null,
   "metadata": {},
   "outputs": [],
   "source": [
    "# This shows the test data to the right compared to all of the data.\n",
    "pd.concat([raw_df,future_forecast],axis=1).iplot()"
   ]
  },
  {
   "cell_type": "markdown",
   "metadata": {},
   "source": [
    "## STOP - this is where I started to do things on my own and it did not go well, but look at the other notebook and this section worked"
   ]
  },
  {
   "cell_type": "code",
   "execution_count": null,
   "metadata": {},
   "outputs": [],
   "source": [
    "from pandas.tseries.offsets import DateOffset\n",
    "future_dates=[raw_df.index[-1]+DateOffset(months=x) for x in range (0,24)]"
   ]
  },
  {
   "cell_type": "code",
   "execution_count": null,
   "metadata": {},
   "outputs": [],
   "source": [
    "futures_datest_df=pd.DataFrame(index=future_dates[1:], columns=raw_df.columns)"
   ]
  },
  {
   "cell_type": "code",
   "execution_count": null,
   "metadata": {},
   "outputs": [],
   "source": [
    "futures_datest_df.tail()"
   ]
  },
  {
   "cell_type": "code",
   "execution_count": null,
   "metadata": {},
   "outputs": [],
   "source": [
    "future_df=pd.concat([raw_df, futures_datest_df])\n",
    "future_df.head()"
   ]
  },
  {
   "cell_type": "code",
   "execution_count": null,
   "metadata": {},
   "outputs": [],
   "source": [
    "future_df[\"Forecast\"]=results.predict(n_periods=572)\n",
    "future_df[[\"Total Primary Energy Consumption, Monthly (Trillion Btu)\", \"Forecast\"]].plot(figsize=(12,8))"
   ]
  },
  {
   "cell_type": "code",
   "execution_count": null,
   "metadata": {},
   "outputs": [],
   "source": [
    "future_df.tail()"
   ]
  },
  {
   "cell_type": "markdown",
   "metadata": {},
   "source": [
    "##  Test stationarity\n",
    "### If mean is not constant, data is not stationary. Scale the data in various ways to figure out the best way to achieve stationarity.\n",
    "#### We test for stationarity in two ways: a visual test and a statistical test\n",
    "- VISUAL TEST: plot rolling mean and stdev for a visual of whether data is stationary\n",
    "    - if data is stationary, it the mean should be close to a straight line with no slope\n",
    "- STATS TEST: run Dickey-Fuller test for statistical confirmation of whether data is stationary\n",
    "    - if data is stationary, the P-value should be < 0.05 and the absolute value of the Test Statistic should be greater than the absolute value of the Critical Value"
   ]
  },
  {
   "cell_type": "code",
   "execution_count": null,
   "metadata": {},
   "outputs": [],
   "source": [
    "# create function to create rolling mean and stdev, plot for visual test, and DF for stat test\n",
    "\n",
    "from statsmodels.tsa.stattools import adfuller\n",
    "def test_stationarity(timeseries):\n",
    "    \n",
    "    #Determine rolling stats\n",
    "    movingAverage=timeseries.rolling(window=12).mean()\n",
    "    movingStd=timeseries.rolling(window=12).std()\n",
    "    \n",
    "    #plot rolling stats\n",
    "    orig=plt.plot(timeseries, color=\"blue\", label=\"Original\")\n",
    "    mean=plt.plot(movingAverage, color=\"red\", label=\"Rolling Mean\")\n",
    "    std=plt.plot(movingStd, color=\"black\", label=\"Rolling STD\")\n",
    "    plt.legend(loc=\"best\")\n",
    "    plt.title(\"Rolling Mean and STD\")\n",
    "    plt.show(block=False)\n",
    "     \n",
    "    #perform Dickey-Fuller test\n",
    "    print(\"Results of Dickey Fuller test:\")\n",
    "    dftest = adfuller(timeseries[\"Total Primary Energy Consumption, Monthly (Trillion Btu)\"], autolag = 'AIC')\n",
    "    dfoutput=pd.Series(dftest[0:4], index=[\"Test Statistic\", \"P-Value\",'# Lags Used',\"# of Obsv Used\"])\n",
    "    for key, value in dftest[4].items():\n",
    "        dfoutput[\"Critical Value (%s)\"%key]=value\n",
    "    print(dfoutput)\n",
    "    "
   ]
  },
  {
   "cell_type": "code",
   "execution_count": null,
   "metadata": {},
   "outputs": [],
   "source": [
    "# this is how we know the raw data is not stationary\n",
    "test_stationarity(raw_df)"
   ]
  },
  {
   "cell_type": "markdown",
   "metadata": {},
   "source": [
    "## Test with Seasonal Decomposition"
   ]
  },
  {
   "cell_type": "code",
   "execution_count": null,
   "metadata": {},
   "outputs": [],
   "source": [
    "\n",
    "from statsmodels.tsa.seasonal import seasonal_decompose\n",
    "decomposition = seasonal_decompose(raw_df)\n",
    "\n",
    "trend = decomposition.trend\n",
    "seasonal = decomposition.seasonal\n",
    "residual = decomposition.resid\n",
    "\n",
    "plt.subplot(411)\n",
    "plt.plot(raw_df, label='Original')\n",
    "plt.legend(loc='best')\n",
    "plt.subplot(412)\n",
    "plt.plot(trend, label='Trend')\n",
    "plt.legend(loc='best')\n",
    "plt.subplot(413)\n",
    "plt.plot(seasonal,label='Seasonality')\n",
    "plt.legend(loc='best')\n",
    "plt.subplot(414)\n",
    "plt.plot(residual, label='Residuals')\n",
    "plt.legend(loc='best')\n",
    "plt.tight_layout()"
   ]
  },
  {
   "cell_type": "code",
   "execution_count": null,
   "metadata": {},
   "outputs": [],
   "source": [
    "# test stationarity on residual plot after trend and seasonality has been removed \n",
    "\n",
    "raw_df_log_decompose = residual\n",
    "raw_df_log_decompose.dropna(inplace=True)\n",
    "test_stationarity(raw_df_log_decompose)\n",
    "\n",
    "# DF shows this is by far the highest confidence model"
   ]
  },
  {
   "cell_type": "markdown",
   "metadata": {},
   "source": [
    "## Begin Forecasting Here"
   ]
  },
  {
   "cell_type": "markdown",
   "metadata": {},
   "source": [
    "### rephrase this explanation!!\n",
    "\n",
    "Let me give you a brief introduction to ARIMA. I won’t go into the technical details but you should understand these concepts in detail if you wish to apply them more effectively. ARIMA stands for Auto-Regressive Integrated Moving Averages. The ARIMA forecasting for a stationary time series is nothing but a linear (like a linear regression) equation. The predictors depend on the parameters (p,d,q) of the ARIMA model:\n",
    "\n",
    "1. Number of AR (Auto-Regressive) terms (p): AR terms are just lags of dependent variable. For instance if p is 5, the predictors for x(t) will be x(t-1)….x(t-5).\n",
    "2. Number of MA (Moving Average) terms (q): MA terms are lagged forecast errors in prediction equation. For instance if q is 5, the predictors for x(t) will be e(t-1)….e(t-5) where e(i) is the difference between the moving average at ith instant and actual value.\n",
    "3. Number of Differences (d): These are the number of nonseasonal differences, i.e. in this case we took the first order difference. So either we can pass that variable and put d=0 or pass the original variable and put d=1. Both will generate same results.\n",
    "\n",
    "#### Selecting p, q, and d values\n",
    "\n",
    "1. Autocorrelation Function (ACF): It is a measure of the correlation between the the TS with a lagged version of itself. For instance at lag 5, ACF would compare series at time instant ‘t1’…’t2’ with series at instant ‘t1-5’…’t2-5’ (t1-5 and t2 being end points).\n",
    "2. Partial Autocorrelation Function (PACF): This measures the correlation between the TS with a lagged version of itself but after eliminating the variations already explained by the intervening comparisons. Eg at lag 5, it will check the correlation but remove the effects already explained by lags 1 to 4."
   ]
  },
  {
   "cell_type": "code",
   "execution_count": null,
   "metadata": {},
   "outputs": [],
   "source": [
    "#ACF and PACF plots:\n",
    "from statsmodels.tsa.stattools import acf, pacf\n",
    "\n",
    "lag_acf = acf(raw_df_log_decompose, nlags=20)\n",
    "lag_pacf = pacf(raw_df_log_decompose, nlags=20, method = 'ols')\n",
    "#ols is 'ordinary least squares' method\n",
    "\n",
    "#Plot ACF:\n",
    "plt.subplot(121)\n",
    "plt.plot(lag_acf)\n",
    "plt.axhline(y=0, linestyle='-', color='gray')\n",
    "plt.axhline(y=-1.96/np.sqrt(len(raw_df_log_decompose)), linestyle='-', color='gray')\n",
    "plt.axhline(y=1.96/np.sqrt(len(raw_df_log_decompose)), linestyle='-', color='gray')\n",
    "plt.title('Autocorrelation Function')\n",
    "\n",
    "#Plot PACF:\n",
    "plt.subplot(122)\n",
    "plt.plot(lag_pacf)\n",
    "plt.axhline(y=0, linestyle='-', color='gray')\n",
    "plt.axhline(y=-1.96/np.sqrt(len(raw_df_log_decompose)), linestyle='-', color='gray')\n",
    "plt.axhline(y=1.96/np.sqrt(len(raw_df_log_decompose)), linestyle='-', color='gray')\n",
    "plt.title('Partial Autocorrelation Function')\n",
    "plt.tight_layout()\n"
   ]
  },
  {
   "cell_type": "code",
   "execution_count": null,
   "metadata": {},
   "outputs": [],
   "source": [
    "raw_df_log_decompose.head()"
   ]
  },
  {
   "cell_type": "code",
   "execution_count": null,
   "metadata": {},
   "outputs": [],
   "source": [
    "from statsmodels.tsa.arima_model import ARIMA\n",
    "\n",
    "#AR MODEL\n",
    "model = ARIMA(raw_df_log_decompose, order=(1, 1, 0))\n",
    "results_AR = model.fit(disp=-1)\n",
    "plt.plot(raw_df_log_decompose)\n",
    "plt.plot(results_AR.fittedvalues, color='red')\n",
    "preRSS = (results_AR.fittedvalues-raw_df_log_decompose[\"Total Primary Energy Consumption, Monthly (Trillion Btu)\"])**2\n",
    "preRSS.dropna(inplace=True)\n",
    "plt.title('Decompose RSS: %.4f'% sum(preRSS))\n",
    "print('Plotting AR model')"
   ]
  },
  {
   "cell_type": "code",
   "execution_count": null,
   "metadata": {},
   "outputs": [],
   "source": [
    "#MA MODEL\n",
    "model = ARIMA(raw_df_log_decompose, order=(0, 1, 2))\n",
    "results_MA = model.fit(disp=-1)\n",
    "plt.plot(raw_df_log_decompose)\n",
    "plt.plot(results_MA.fittedvalues, color='red')\n",
    "preRSS = (results_MA.fittedvalues-raw_df_log_decompose[\"Total Primary Energy Consumption, Monthly (Trillion Btu)\"])**2\n",
    "preRSS.dropna(inplace=True)\n",
    "plt.title('Decompose RSS: %.4f'% sum(preRSS))\n",
    "print('Plotting MA model')\n"
   ]
  },
  {
   "cell_type": "code",
   "execution_count": null,
   "metadata": {},
   "outputs": [],
   "source": [
    "#ARIMA MODEL\n",
    "model = ARIMA(raw_df_log_decompose, order=(2, 1, 0))\n",
    "results_ARIMA = model.fit(disp=-1)\n",
    "plt.plot(raw_df_log_decompose)\n",
    "plt.plot(results_ARIMA.fittedvalues, color='red')\n",
    "result = (results_ARIMA.fittedvalues-raw_df_log_decompose[\"Total Primary Energy Consumption, Monthly (Trillion Btu)\"])**2\n",
    "result.dropna(inplace=True)\n",
    "plt.title('Decompose RSS: %.4f'% sum(result))\n",
    "print('Plotting ARIMA model')\n"
   ]
  },
  {
   "cell_type": "code",
   "execution_count": null,
   "metadata": {},
   "outputs": [],
   "source": []
  }
 ],
 "metadata": {
  "kernelspec": {
   "display_name": "Python [conda env:PythonData]",
   "language": "python",
   "name": "conda-env-PythonData-py"
  },
  "language_info": {
   "codemirror_mode": {
    "name": "ipython",
    "version": 3
   },
   "file_extension": ".py",
   "mimetype": "text/x-python",
   "name": "python",
   "nbconvert_exporter": "python",
   "pygments_lexer": "ipython3",
   "version": "3.6.7"
  }
 },
 "nbformat": 4,
 "nbformat_minor": 2
}
