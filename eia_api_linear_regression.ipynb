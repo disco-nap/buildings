{
 "cells": [
  {
   "cell_type": "code",
   "execution_count": 1,
   "metadata": {},
   "outputs": [],
   "source": [
    "# Dependencies\n",
    "import matplotlib.pyplot as plt\n",
    "import numpy as np\n",
    "import pandas as pd\n",
    "import requests\n",
    "from config import api_key\n",
    "import eia\n",
    "import re\n",
    "from sklearn.linear_model import LinearRegression\n"
   ]
  },
  {
   "cell_type": "code",
   "execution_count": 2,
   "metadata": {},
   "outputs": [
    {
     "data": {
      "text/plain": [
       "'021bf1d89256205c8528b6d4475485b3'"
      ]
     },
     "execution_count": 2,
     "metadata": {},
     "output_type": "execute_result"
    }
   ],
   "source": [
    "#test is api_key variable works\n",
    "#remove this line output when making public\n",
    "api_key"
   ]
  },
  {
   "cell_type": "code",
   "execution_count": 3,
   "metadata": {},
   "outputs": [],
   "source": [
    "#save variable to call in api data w/ key\n",
    "api = eia.API(api_key)"
   ]
  },
  {
   "cell_type": "code",
   "execution_count": 5,
   "metadata": {},
   "outputs": [
    {
     "data": {
      "text/html": [
       "<div>\n",
       "<style scoped>\n",
       "    .dataframe tbody tr th:only-of-type {\n",
       "        vertical-align: middle;\n",
       "    }\n",
       "\n",
       "    .dataframe tbody tr th {\n",
       "        vertical-align: top;\n",
       "    }\n",
       "\n",
       "    .dataframe thead th {\n",
       "        text-align: right;\n",
       "    }\n",
       "</style>\n",
       "<table border=\"1\" class=\"dataframe\">\n",
       "  <thead>\n",
       "    <tr style=\"text-align: right;\">\n",
       "      <th></th>\n",
       "      <th>Total Primary Energy Consumption, Monthly (Trillion Btu)</th>\n",
       "    </tr>\n",
       "  </thead>\n",
       "  <tbody>\n",
       "    <tr>\n",
       "      <th>1973 01</th>\n",
       "      <td>7226.265</td>\n",
       "    </tr>\n",
       "    <tr>\n",
       "      <th>1973 02</th>\n",
       "      <td>6594.709</td>\n",
       "    </tr>\n",
       "    <tr>\n",
       "      <th>1973 03</th>\n",
       "      <td>6524.198</td>\n",
       "    </tr>\n",
       "    <tr>\n",
       "      <th>1973 04</th>\n",
       "      <td>5944.336</td>\n",
       "    </tr>\n",
       "    <tr>\n",
       "      <th>1973 05</th>\n",
       "      <td>6074.551</td>\n",
       "    </tr>\n",
       "  </tbody>\n",
       "</table>\n",
       "</div>"
      ],
      "text/plain": [
       "          Total Primary Energy Consumption, Monthly (Trillion Btu)\n",
       "1973 01                                            7226.265       \n",
       "1973 02                                            6594.709       \n",
       "1973 03                                            6524.198       \n",
       "1973 04                                            5944.336       \n",
       "1973 05                                            6074.551       "
      ]
     },
     "execution_count": 5,
     "metadata": {},
     "output_type": "execute_result"
    }
   ],
   "source": [
    "#test one api ending; import to pandas dataframe\n",
    "newdf=api.data_by_series(series='TOTAL.TETCBUS.M')\n",
    "dataframe1=pd.DataFrame(newdf)\n",
    "dataframe1.head()"
   ]
  },
  {
   "cell_type": "code",
   "execution_count": 6,
   "metadata": {},
   "outputs": [
    {
     "data": {
      "text/html": [
       "<div>\n",
       "<style scoped>\n",
       "    .dataframe tbody tr th:only-of-type {\n",
       "        vertical-align: middle;\n",
       "    }\n",
       "\n",
       "    .dataframe tbody tr th {\n",
       "        vertical-align: top;\n",
       "    }\n",
       "\n",
       "    .dataframe thead th {\n",
       "        text-align: right;\n",
       "    }\n",
       "</style>\n",
       "<table border=\"1\" class=\"dataframe\">\n",
       "  <thead>\n",
       "    <tr style=\"text-align: right;\">\n",
       "      <th></th>\n",
       "      <th>Time</th>\n",
       "      <th>Total Primary Energy Consumption, Monthly (Trillion Btu)</th>\n",
       "    </tr>\n",
       "  </thead>\n",
       "  <tbody>\n",
       "    <tr>\n",
       "      <th>0</th>\n",
       "      <td>1973 01</td>\n",
       "      <td>7226.265</td>\n",
       "    </tr>\n",
       "    <tr>\n",
       "      <th>1</th>\n",
       "      <td>1973 02</td>\n",
       "      <td>6594.709</td>\n",
       "    </tr>\n",
       "    <tr>\n",
       "      <th>2</th>\n",
       "      <td>1973 03</td>\n",
       "      <td>6524.198</td>\n",
       "    </tr>\n",
       "    <tr>\n",
       "      <th>3</th>\n",
       "      <td>1973 04</td>\n",
       "      <td>5944.336</td>\n",
       "    </tr>\n",
       "    <tr>\n",
       "      <th>4</th>\n",
       "      <td>1973 05</td>\n",
       "      <td>6074.551</td>\n",
       "    </tr>\n",
       "  </tbody>\n",
       "</table>\n",
       "</div>"
      ],
      "text/plain": [
       "       Time  Total Primary Energy Consumption, Monthly (Trillion Btu)\n",
       "0  1973 01                                            7226.265       \n",
       "1  1973 02                                            6594.709       \n",
       "2  1973 03                                            6524.198       \n",
       "3  1973 04                                            5944.336       \n",
       "4  1973 05                                            6074.551       "
      ]
     },
     "execution_count": 6,
     "metadata": {},
     "output_type": "execute_result"
    }
   ],
   "source": [
    "#add index (unique identifier)\n",
    "dataframe1=dataframe1.reset_index()\n",
    "dataframe1=dataframe1.rename(columns={\"index\":\"Time\"})\n",
    "dataframe1.head()"
   ]
  },
  {
   "cell_type": "code",
   "execution_count": 7,
   "metadata": {},
   "outputs": [
    {
     "data": {
      "text/plain": [
       "'1973 01 '"
      ]
     },
     "execution_count": 7,
     "metadata": {},
     "output_type": "execute_result"
    }
   ],
   "source": [
    "#call on first item using index \n",
    "dataframe1[\"Time\"][0]"
   ]
  },
  {
   "cell_type": "code",
   "execution_count": 8,
   "metadata": {},
   "outputs": [
    {
     "name": "stdout",
     "output_type": "stream",
     "text": [
      "year = 1973\n",
      "month =  01 \n"
     ]
    }
   ],
   "source": [
    "#split time calumn into separate year and month (test on first line)\n",
    "year = re.findall('....', (dataframe1['Time'][0]))[0]\n",
    "month = re.findall('....', (dataframe1['Time'][0]))[1]\n",
    "\n",
    "print(f\"year = {year}\")\n",
    "print(f\"month = {month}\")"
   ]
  },
  {
   "cell_type": "code",
   "execution_count": 9,
   "metadata": {},
   "outputs": [],
   "source": [
    "#create empty lists for future month and year columns\n",
    "year = []\n",
    "month = []\n",
    "counter = 0"
   ]
  },
  {
   "cell_type": "code",
   "execution_count": 10,
   "metadata": {},
   "outputs": [],
   "source": [
    "#iterate to split all time columns into year/month; add to respective list\n",
    "for time in dataframe1['Time']:\n",
    "    year.append(re.findall('....', (dataframe1['Time'][counter]))[0])\n",
    "    month.append(re.findall('....', (dataframe1['Time'][counter]))[1])\n",
    "    counter = counter + 1\n"
   ]
  },
  {
   "cell_type": "code",
   "execution_count": 11,
   "metadata": {},
   "outputs": [],
   "source": [
    "#add month and year columns to df\n",
    "dataframe1['Year'] = year\n",
    "dataframe1['Month'] = month"
   ]
  },
  {
   "cell_type": "code",
   "execution_count": 12,
   "metadata": {},
   "outputs": [
    {
     "data": {
      "text/html": [
       "<div>\n",
       "<style scoped>\n",
       "    .dataframe tbody tr th:only-of-type {\n",
       "        vertical-align: middle;\n",
       "    }\n",
       "\n",
       "    .dataframe tbody tr th {\n",
       "        vertical-align: top;\n",
       "    }\n",
       "\n",
       "    .dataframe thead th {\n",
       "        text-align: right;\n",
       "    }\n",
       "</style>\n",
       "<table border=\"1\" class=\"dataframe\">\n",
       "  <thead>\n",
       "    <tr style=\"text-align: right;\">\n",
       "      <th></th>\n",
       "      <th>Time</th>\n",
       "      <th>Total Primary Energy Consumption, Monthly (Trillion Btu)</th>\n",
       "      <th>Year</th>\n",
       "      <th>Month</th>\n",
       "    </tr>\n",
       "  </thead>\n",
       "  <tbody>\n",
       "    <tr>\n",
       "      <th>0</th>\n",
       "      <td>1973 01</td>\n",
       "      <td>7226.265</td>\n",
       "      <td>1973</td>\n",
       "      <td>01</td>\n",
       "    </tr>\n",
       "    <tr>\n",
       "      <th>1</th>\n",
       "      <td>1973 02</td>\n",
       "      <td>6594.709</td>\n",
       "      <td>1973</td>\n",
       "      <td>02</td>\n",
       "    </tr>\n",
       "    <tr>\n",
       "      <th>2</th>\n",
       "      <td>1973 03</td>\n",
       "      <td>6524.198</td>\n",
       "      <td>1973</td>\n",
       "      <td>03</td>\n",
       "    </tr>\n",
       "    <tr>\n",
       "      <th>3</th>\n",
       "      <td>1973 04</td>\n",
       "      <td>5944.336</td>\n",
       "      <td>1973</td>\n",
       "      <td>04</td>\n",
       "    </tr>\n",
       "    <tr>\n",
       "      <th>4</th>\n",
       "      <td>1973 05</td>\n",
       "      <td>6074.551</td>\n",
       "      <td>1973</td>\n",
       "      <td>05</td>\n",
       "    </tr>\n",
       "  </tbody>\n",
       "</table>\n",
       "</div>"
      ],
      "text/plain": [
       "       Time  Total Primary Energy Consumption, Monthly (Trillion Btu)  Year  \\\n",
       "0  1973 01                                            7226.265         1973   \n",
       "1  1973 02                                            6594.709         1973   \n",
       "2  1973 03                                            6524.198         1973   \n",
       "3  1973 04                                            5944.336         1973   \n",
       "4  1973 05                                            6074.551         1973   \n",
       "\n",
       "  Month  \n",
       "0   01   \n",
       "1   02   \n",
       "2   03   \n",
       "3   04   \n",
       "4   05   "
      ]
     },
     "execution_count": 12,
     "metadata": {},
     "output_type": "execute_result"
    }
   ],
   "source": [
    "dataframe1.head()"
   ]
  },
  {
   "cell_type": "code",
   "execution_count": 56,
   "metadata": {},
   "outputs": [
    {
     "data": {
      "text/html": [
       "<div>\n",
       "<style scoped>\n",
       "    .dataframe tbody tr th:only-of-type {\n",
       "        vertical-align: middle;\n",
       "    }\n",
       "\n",
       "    .dataframe tbody tr th {\n",
       "        vertical-align: top;\n",
       "    }\n",
       "\n",
       "    .dataframe thead th {\n",
       "        text-align: right;\n",
       "    }\n",
       "</style>\n",
       "<table border=\"1\" class=\"dataframe\">\n",
       "  <thead>\n",
       "    <tr style=\"text-align: right;\">\n",
       "      <th></th>\n",
       "      <th>Year</th>\n",
       "      <th>Month</th>\n",
       "      <th>Total Primary Energy Consumption, Monthly (Trillion Btu)</th>\n",
       "    </tr>\n",
       "  </thead>\n",
       "  <tbody>\n",
       "    <tr>\n",
       "      <th>0</th>\n",
       "      <td>1973</td>\n",
       "      <td>01</td>\n",
       "      <td>7226.265</td>\n",
       "    </tr>\n",
       "    <tr>\n",
       "      <th>1</th>\n",
       "      <td>1973</td>\n",
       "      <td>02</td>\n",
       "      <td>6594.709</td>\n",
       "    </tr>\n",
       "    <tr>\n",
       "      <th>2</th>\n",
       "      <td>1973</td>\n",
       "      <td>03</td>\n",
       "      <td>6524.198</td>\n",
       "    </tr>\n",
       "    <tr>\n",
       "      <th>3</th>\n",
       "      <td>1973</td>\n",
       "      <td>04</td>\n",
       "      <td>5944.336</td>\n",
       "    </tr>\n",
       "    <tr>\n",
       "      <th>4</th>\n",
       "      <td>1973</td>\n",
       "      <td>05</td>\n",
       "      <td>6074.551</td>\n",
       "    </tr>\n",
       "  </tbody>\n",
       "</table>\n",
       "</div>"
      ],
      "text/plain": [
       "   Year Month  Total Primary Energy Consumption, Monthly (Trillion Btu)\n",
       "0  1973   01                                            7226.265       \n",
       "1  1973   02                                            6594.709       \n",
       "2  1973   03                                            6524.198       \n",
       "3  1973   04                                            5944.336       \n",
       "4  1973   05                                            6074.551       "
      ]
     },
     "execution_count": 56,
     "metadata": {},
     "output_type": "execute_result"
    }
   ],
   "source": [
    "energy_consumption_df = dataframe1[[\"Year\", \"Month\", \"Total Primary Energy Consumption, Monthly (Trillion Btu)\"]]\n",
    "\n",
    "# \"Total Primary Energy Consumption, Monthly (Trillion Btu)\", \"Total Primary Energy Consumed by the Commercial Sector, Monthly (Trillion Btu)\", \"Total Primary Energy Consumed by the Industrial Sector, Monthly (Trillion Btu)\", \"Total Primary Energy Consumed by the Residential Sector, Monthly (Trillion Btu)\", \"Total Primary Energy Consumed by the Transportation Sector, Monthly (Trillion Btu)\"\n",
    "\n",
    "energy_consumption_df.head()"
   ]
  },
  {
   "cell_type": "code",
   "execution_count": 57,
   "metadata": {},
   "outputs": [],
   "source": [
    "energy_consumption_test = energy_consumption_df.tail(21)"
   ]
  },
  {
   "cell_type": "code",
   "execution_count": 58,
   "metadata": {},
   "outputs": [],
   "source": [
    "energy_consumption_train = energy_consumption_df.head(528)"
   ]
  },
  {
   "cell_type": "code",
   "execution_count": 59,
   "metadata": {},
   "outputs": [
    {
     "data": {
      "text/plain": [
       "'Year'"
      ]
     },
     "execution_count": 59,
     "metadata": {},
     "output_type": "execute_result"
    }
   ],
   "source": [
    "energy_consumption_df.columns[0]"
   ]
  },
  {
   "cell_type": "code",
   "execution_count": 60,
   "metadata": {},
   "outputs": [
    {
     "name": "stderr",
     "output_type": "stream",
     "text": [
      "/Users/julia/anaconda3/envs/PythonData/lib/python3.6/site-packages/ipykernel/__main__.py:2: FutureWarning: Method .as_matrix will be removed in a future version. Use .values instead.\n",
      "  from ipykernel import kernelapp as app\n",
      "/Users/julia/anaconda3/envs/PythonData/lib/python3.6/site-packages/ipykernel/__main__.py:4: FutureWarning: Method .as_matrix will be removed in a future version. Use .values instead.\n"
     ]
    }
   ],
   "source": [
    "# reshape x data into an array\n",
    "X_train = energy_consumption_train.as_matrix(columns=energy_consumption_df.columns[:2])\n",
    "\n",
    "X_test = energy_consumption_test.as_matrix(columns=energy_consumption_df.columns[:2])"
   ]
  },
  {
   "cell_type": "code",
   "execution_count": 61,
   "metadata": {},
   "outputs": [
    {
     "data": {
      "text/plain": [
       "Index(['Year', 'Month'], dtype='object')"
      ]
     },
     "execution_count": 61,
     "metadata": {},
     "output_type": "execute_result"
    }
   ],
   "source": [
    "energy_consumption_df.columns[:2]"
   ]
  },
  {
   "cell_type": "code",
   "execution_count": 62,
   "metadata": {},
   "outputs": [
    {
     "name": "stderr",
     "output_type": "stream",
     "text": [
      "/Users/julia/anaconda3/envs/PythonData/lib/python3.6/site-packages/ipykernel/__main__.py:2: FutureWarning: Method .as_matrix will be removed in a future version. Use .values instead.\n",
      "  from ipykernel import kernelapp as app\n",
      "/Users/julia/anaconda3/envs/PythonData/lib/python3.6/site-packages/ipykernel/__main__.py:4: FutureWarning: Method .as_matrix will be removed in a future version. Use .values instead.\n"
     ]
    }
   ],
   "source": [
    "# reshape y data into an array\n",
    "y_train = energy_consumption_train.as_matrix(columns=energy_consumption_df.columns[2:3])\n",
    "\n",
    "y_test = energy_consumption_test.as_matrix(columns=energy_consumption_df.columns[2:3])\n"
   ]
  },
  {
   "cell_type": "code",
   "execution_count": 63,
   "metadata": {},
   "outputs": [
    {
     "name": "stdout",
     "output_type": "stream",
     "text": [
      "[['1973' ' 01 ']\n",
      " ['1973' ' 02 ']\n",
      " ['1973' ' 03 ']\n",
      " ...\n",
      " ['2016' ' 10 ']\n",
      " ['2016' ' 11 ']\n",
      " ['2016' ' 12 ']]\n"
     ]
    }
   ],
   "source": [
    "print(X_train)"
   ]
  },
  {
   "cell_type": "code",
   "execution_count": 64,
   "metadata": {},
   "outputs": [],
   "source": [
    "from numpy import shape"
   ]
  },
  {
   "cell_type": "code",
   "execution_count": 65,
   "metadata": {},
   "outputs": [
    {
     "data": {
      "text/plain": [
       "(528, 2)"
      ]
     },
     "execution_count": 65,
     "metadata": {},
     "output_type": "execute_result"
    }
   ],
   "source": [
    "shape(X_train)"
   ]
  },
  {
   "cell_type": "code",
   "execution_count": 66,
   "metadata": {},
   "outputs": [
    {
     "data": {
      "text/plain": [
       "(528, 1)"
      ]
     },
     "execution_count": 66,
     "metadata": {},
     "output_type": "execute_result"
    }
   ],
   "source": [
    "shape(y_train)"
   ]
  },
  {
   "cell_type": "code",
   "execution_count": 67,
   "metadata": {},
   "outputs": [
    {
     "name": "stdout",
     "output_type": "stream",
     "text": [
      "[[7226.265]\n",
      " [6594.709]\n",
      " [6524.198]\n",
      " [5944.336]\n",
      " [6074.551]\n",
      " [5805.318]\n",
      " [5954.498]\n",
      " [6194.365]\n",
      " [5776.048]\n",
      " [6177.455]\n",
      " [6521.876]\n",
      " [6889.701]\n",
      " [6906.707]\n",
      " [6316.938]\n",
      " [6373.851]\n",
      " [5863.745]\n",
      " [5867.145]\n",
      " [5644.753]\n",
      " [5988.038]\n",
      " [6018.263]\n",
      " [5713.814]\n",
      " [6184.96 ]\n",
      " [6238.457]\n",
      " [6845.56 ]\n",
      " [7059.014]\n",
      " [6171.542]\n",
      " [6386.257]\n",
      " [5800.645]\n",
      " [5494.457]\n",
      " [5438.115]\n",
      " [5671.861]\n",
      " [5747.213]\n",
      " [5501.291]\n",
      " [5911.74 ]\n",
      " [5853.242]\n",
      " [6929.591]\n",
      " [7315.131]\n",
      " [6396.086]\n",
      " [6394.82 ]\n",
      " [5858.227]\n",
      " [5796.389]\n",
      " [5827.441]\n",
      " [6027.641]\n",
      " [5973.736]\n",
      " [5742.648]\n",
      " [6247.77 ]\n",
      " [6732.906]\n",
      " [7661.524]\n",
      " [7855.623]\n",
      " [6657.899]\n",
      " [6577.61 ]\n",
      " [5983.088]\n",
      " [6000.884]\n",
      " [6089.198]\n",
      " [6199.376]\n",
      " [6304.07 ]\n",
      " [6083.524]\n",
      " [6276.021]\n",
      " [6488.691]\n",
      " [7445.772]\n",
      " [7724.961]\n",
      " [7055.634]\n",
      " [6969.369]\n",
      " [6173.557]\n",
      " [6341.706]\n",
      " [6152.956]\n",
      " [6343.727]\n",
      " [6499.555]\n",
      " [6091.208]\n",
      " [6428.593]\n",
      " [6689.161]\n",
      " [7479.492]\n",
      " [8096.05 ]\n",
      " [7413.492]\n",
      " [7155.015]\n",
      " [6291.051]\n",
      " [6351.355]\n",
      " [6146.792]\n",
      " [6280.572]\n",
      " [6496.817]\n",
      " [6056.294]\n",
      " [6546.994]\n",
      " [6682.793]\n",
      " [7341.604]\n",
      " [7569.338]\n",
      " [7127.106]\n",
      " [7025.383]\n",
      " [6162.598]\n",
      " [6011.371]\n",
      " [5875.872]\n",
      " [6138.724]\n",
      " [6066.541]\n",
      " [5974.226]\n",
      " [6320.64 ]\n",
      " [6424.042]\n",
      " [7367.613]\n",
      " [7643.376]\n",
      " [6488.579]\n",
      " [6610.567]\n",
      " [5879.369]\n",
      " [5943.749]\n",
      " [5999.608]\n",
      " [6212.381]\n",
      " [6116.564]\n",
      " [5824.826]\n",
      " [6147.633]\n",
      " [6142.499]\n",
      " [7092.463]\n",
      " [7452.645]\n",
      " [6475.473]\n",
      " [6548.462]\n",
      " [6044.908]\n",
      " [5607.074]\n",
      " [5577.011]\n",
      " [5840.514]\n",
      " [5822.744]\n",
      " [5553.562]\n",
      " [5730.544]\n",
      " [5983.05 ]\n",
      " [6463.441]\n",
      " [6912.467]\n",
      " [6069.952]\n",
      " [6436.333]\n",
      " [5873.836]\n",
      " [5697.525]\n",
      " [5682.518]\n",
      " [5946.682]\n",
      " [6133.137]\n",
      " [5704.341]\n",
      " [5705.57 ]\n",
      " [5940.081]\n",
      " [6868.125]\n",
      " [7659.216]\n",
      " [6628.326]\n",
      " [6863.942]\n",
      " [6275.386]\n",
      " [6176.19 ]\n",
      " [6031.41 ]\n",
      " [6160.819]\n",
      " [6328.067]\n",
      " [5766.025]\n",
      " [5965.862]\n",
      " [6104.652]\n",
      " [6671.81 ]\n",
      " [7382.202]\n",
      " [6884.675]\n",
      " [6582.706]\n",
      " [6110.942]\n",
      " [6010.09 ]\n",
      " [5885.315]\n",
      " [6191.778]\n",
      " [6262.2  ]\n",
      " [5763.682]\n",
      " [6031.312]\n",
      " [6063.41 ]\n",
      " [7224.067]\n",
      " [7399.658]\n",
      " [6624.247]\n",
      " [6780.17 ]\n",
      " [6113.781]\n",
      " [6103.287]\n",
      " [6019.767]\n",
      " [6358.024]\n",
      " [6227.713]\n",
      " [5822.464]\n",
      " [6043.899]\n",
      " [6122.967]\n",
      " [7031.035]\n",
      " [7476.45 ]\n",
      " [6732.162]\n",
      " [6770.707]\n",
      " [6317.775]\n",
      " [6203.087]\n",
      " [6283.858]\n",
      " [6630.484]\n",
      " [6518.294]\n",
      " [6127.542]\n",
      " [6366.409]\n",
      " [6346.123]\n",
      " [7281.541]\n",
      " [7804.136]\n",
      " [7311.849]\n",
      " [7300.926]\n",
      " [6453.888]\n",
      " [6394.683]\n",
      " [6511.855]\n",
      " [6750.241]\n",
      " [6992.534]\n",
      " [6344.903]\n",
      " [6591.078]\n",
      " [6708.19 ]\n",
      " [7544.911]\n",
      " [7643.419]\n",
      " [7233.498]\n",
      " [7545.703]\n",
      " [6664.216]\n",
      " [6639.14 ]\n",
      " [6697.346]\n",
      " [6859.659]\n",
      " [7031.494]\n",
      " [6484.541]\n",
      " [6794.031]\n",
      " [6943.56 ]\n",
      " [8248.724]\n",
      " [7812.967]\n",
      " [7007.056]\n",
      " [7309.418]\n",
      " [6771.439]\n",
      " [6750.376]\n",
      " [6759.777]\n",
      " [7036.447]\n",
      " [7283.532]\n",
      " [6618.049]\n",
      " [6812.414]\n",
      " [6776.438]\n",
      " [7546.645]\n",
      " [8078.661]\n",
      " [6866.738]\n",
      " [7144.066]\n",
      " [6540.723]\n",
      " [6659.213]\n",
      " [6702.509]\n",
      " [7102.868]\n",
      " [7117.701]\n",
      " [6662.225]\n",
      " [6862.825]\n",
      " [7011.114]\n",
      " [7688.591]\n",
      " [7988.956]\n",
      " [7247.705]\n",
      " [7353.583]\n",
      " [6845.997]\n",
      " [6702.403]\n",
      " [6719.321]\n",
      " [7164.272]\n",
      " [7033.411]\n",
      " [6686.894]\n",
      " [6906.882]\n",
      " [7083.547]\n",
      " [8049.21 ]\n",
      " [7912.456]\n",
      " [7424.598]\n",
      " [7816.592]\n",
      " [6907.476]\n",
      " [6650.483]\n",
      " [6847.311]\n",
      " [7313.062]\n",
      " [7337.386]\n",
      " [6819.004]\n",
      " [6988.178]\n",
      " [7285.727]\n",
      " [8022.313]\n",
      " [8589.797]\n",
      " [7746.401]\n",
      " [7668.421]\n",
      " [6983.321]\n",
      " [6890.507]\n",
      " [7166.432]\n",
      " [7395.024]\n",
      " [7477.23 ]\n",
      " [6886.16 ]\n",
      " [7075.223]\n",
      " [7152.79 ]\n",
      " [8008.857]\n",
      " [8226.193]\n",
      " [7600.222]\n",
      " [7746.   ]\n",
      " [7110.691]\n",
      " [7155.399]\n",
      " [7235.883]\n",
      " [7630.432]\n",
      " [7922.336]\n",
      " [7140.889]\n",
      " [7229.695]\n",
      " [7577.392]\n",
      " [8415.663]\n",
      " [8781.981]\n",
      " [8109.506]\n",
      " [8197.535]\n",
      " [7367.168]\n",
      " [7467.868]\n",
      " [7450.954]\n",
      " [7763.058]\n",
      " [7874.803]\n",
      " [7151.97 ]\n",
      " [7622.8  ]\n",
      " [7801.33 ]\n",
      " [8411.304]\n",
      " [8829.387]\n",
      " [7792.359]\n",
      " [7990.105]\n",
      " [7528.444]\n",
      " [7481.764]\n",
      " [7470.765]\n",
      " [8096.186]\n",
      " [7914.987]\n",
      " [7417.608]\n",
      " [7682.068]\n",
      " [7754.95 ]\n",
      " [8612.464]\n",
      " [8613.349]\n",
      " [7650.204]\n",
      " [8174.686]\n",
      " [7515.048]\n",
      " [7579.487]\n",
      " [7719.457]\n",
      " [8280.961]\n",
      " [8230.509]\n",
      " [7619.267]\n",
      " [7613.624]\n",
      " [7511.035]\n",
      " [8473.946]\n",
      " [8916.761]\n",
      " [7813.917]\n",
      " [8374.956]\n",
      " [7661.381]\n",
      " [7627.869]\n",
      " [7809.606]\n",
      " [8374.699]\n",
      " [8382.839]\n",
      " [7616.185]\n",
      " [7719.808]\n",
      " [7639.148]\n",
      " [8677.385]\n",
      " [8952.552]\n",
      " [8408.733]\n",
      " [8299.973]\n",
      " [7675.241]\n",
      " [8031.61 ]\n",
      " [8008.679]\n",
      " [8236.269]\n",
      " [8548.824]\n",
      " [7698.591]\n",
      " [7766.954]\n",
      " [7945.917]\n",
      " [9202.865]\n",
      " [9232.643]\n",
      " [8076.539]\n",
      " [8478.752]\n",
      " [7644.096]\n",
      " [7634.33 ]\n",
      " [7657.916]\n",
      " [8149.902]\n",
      " [8309.177]\n",
      " [7406.407]\n",
      " [7723.42 ]\n",
      " [7550.214]\n",
      " [8265.421]\n",
      " [8797.524]\n",
      " [7862.335]\n",
      " [8366.013]\n",
      " [7763.628]\n",
      " [7805.742]\n",
      " [7895.25 ]\n",
      " [8431.411]\n",
      " [8351.015]\n",
      " [7666.385]\n",
      " [7807.859]\n",
      " [8019.291]\n",
      " [8838.275]\n",
      " [9240.026]\n",
      " [8436.902]\n",
      " [8388.085]\n",
      " [7672.871]\n",
      " [7668.133]\n",
      " [7646.582]\n",
      " [8276.555]\n",
      " [8396.654]\n",
      " [7611.482]\n",
      " [7787.892]\n",
      " [7840.971]\n",
      " [8931.788]\n",
      " [9356.761]\n",
      " [8739.588]\n",
      " [8436.524]\n",
      " [7798.772]\n",
      " [7972.415]\n",
      " [7987.726]\n",
      " [8411.707]\n",
      " [8360.387]\n",
      " [7836.495]\n",
      " [7954.67 ]\n",
      " [8056.203]\n",
      " [9161.792]\n",
      " [9293.633]\n",
      " [8289.366]\n",
      " [8732.272]\n",
      " [7720.125]\n",
      " [7944.425]\n",
      " [8177.87 ]\n",
      " [8587.417]\n",
      " [8694.069]\n",
      " [7792.931]\n",
      " [7786.96 ]\n",
      " [7944.982]\n",
      " [9203.614]\n",
      " [8821.064]\n",
      " [8196.243]\n",
      " [8590.968]\n",
      " [7715.794]\n",
      " [7962.577]\n",
      " [8151.424]\n",
      " [8638.191]\n",
      " [8737.089]\n",
      " [7791.252]\n",
      " [8025.711]\n",
      " [8034.39 ]\n",
      " [8799.524]\n",
      " [9224.099]\n",
      " [8756.146]\n",
      " [8560.962]\n",
      " [7922.601]\n",
      " [8020.219]\n",
      " [8096.704]\n",
      " [8489.769]\n",
      " [8819.221]\n",
      " [7940.003]\n",
      " [7971.07 ]\n",
      " [8081.343]\n",
      " [9088.554]\n",
      " [9416.811]\n",
      " [8655.698]\n",
      " [8591.288]\n",
      " [7838.339]\n",
      " [7897.137]\n",
      " [8043.044]\n",
      " [8418.132]\n",
      " [8217.76 ]\n",
      " [7352.76 ]\n",
      " [7784.983]\n",
      " [7810.301]\n",
      " [8798.701]\n",
      " [9132.892]\n",
      " [7877.464]\n",
      " [8053.429]\n",
      " [7344.836]\n",
      " [7291.033]\n",
      " [7540.794]\n",
      " [7819.433]\n",
      " [7967.259]\n",
      " [7275.728]\n",
      " [7477.653]\n",
      " [7452.965]\n",
      " [8844.724]\n",
      " [9121.89 ]\n",
      " [8204.549]\n",
      " [8192.466]\n",
      " [7361.076]\n",
      " [7667.622]\n",
      " [7999.252]\n",
      " [8371.194]\n",
      " [8434.888]\n",
      " [7685.307]\n",
      " [7496.765]\n",
      " [7786.653]\n",
      " [9222.291]\n",
      " [9290.094]\n",
      " [8100.186]\n",
      " [8334.016]\n",
      " [7494.053]\n",
      " [7574.279]\n",
      " [7888.75 ]\n",
      " [8379.823]\n",
      " [8403.739]\n",
      " [7558.026]\n",
      " [7573.961]\n",
      " [7785.453]\n",
      " [8577.674]\n",
      " [8675.881]\n",
      " [7965.14 ]\n",
      " [7679.563]\n",
      " [7220.91 ]\n",
      " [7613.83 ]\n",
      " [7735.767]\n",
      " [8295.7  ]\n",
      " [8233.164]\n",
      " [7371.496]\n",
      " [7575.059]\n",
      " [7769.379]\n",
      " [8395.913]\n",
      " [8987.891]\n",
      " [8020.339]\n",
      " [8387.226]\n",
      " [7527.478]\n",
      " [7624.542]\n",
      " [7729.694]\n",
      " [8278.524]\n",
      " [8177.588]\n",
      " [7646.976]\n",
      " [7729.789]\n",
      " [8139.385]\n",
      " [9084.557]\n",
      " [9597.476]\n",
      " [8435.055]\n",
      " [8532.832]\n",
      " [7563.754]\n",
      " [7654.965]\n",
      " [7787.279]\n",
      " [8240.025]\n",
      " [8222.075]\n",
      " [7662.252]\n",
      " [7773.04 ]\n",
      " [8208.219]\n",
      " [8810.438]\n",
      " [9292.748]\n",
      " [8612.522]\n",
      " [8435.164]\n",
      " [7471.053]\n",
      " [7652.129]\n",
      " [7909.442]\n",
      " [8438.055]\n",
      " [8321.835]\n",
      " [7694.434]\n",
      " [7625.323]\n",
      " [7684.262]\n",
      " [8379.018]\n",
      " [9059.96 ]\n",
      " [8233.758]\n",
      " [7988.318]\n",
      " [7453.868]\n",
      " [7589.128]\n",
      " [7940.306]\n",
      " [8479.555]\n",
      " [8547.841]\n",
      " [7756.993]\n",
      " [7659.346]\n",
      " [7724.267]\n",
      " [9090.311]]\n"
     ]
    }
   ],
   "source": [
    "print(y_train)"
   ]
  },
  {
   "cell_type": "code",
   "execution_count": 68,
   "metadata": {},
   "outputs": [],
   "source": [
    "model = LinearRegression()"
   ]
  },
  {
   "cell_type": "code",
   "execution_count": 69,
   "metadata": {},
   "outputs": [
    {
     "name": "stdout",
     "output_type": "stream",
     "text": [
      "R2 Score: 0.6272777407946701\n"
     ]
    }
   ],
   "source": [
    "model.fit(X_train, y_train)\n",
    "\n",
    "score = model.score(X, y)\n",
    "print(f\"R2 Score: {score}\")"
   ]
  },
  {
   "cell_type": "code",
   "execution_count": 70,
   "metadata": {},
   "outputs": [
    {
     "name": "stdout",
     "output_type": "stream",
     "text": [
      "Year coefficient: 58.333951092318536\n",
      "Month coefficient: -29.792104259376973\n"
     ]
    }
   ],
   "source": [
    "coef = model.coef_\n",
    "coefyear = coef[0][0]\n",
    "coefmonth = coef[0][1]\n",
    "print(f\"Year coefficient: {coefyear}\")\n",
    "print(f\"Month coefficient: {coefmonth}\")"
   ]
  },
  {
   "cell_type": "code",
   "execution_count": 71,
   "metadata": {},
   "outputs": [
    {
     "name": "stdout",
     "output_type": "stream",
     "text": [
      "y-intercept: -108806.97588579185\n"
     ]
    }
   ],
   "source": [
    "y_int = model.intercept_[0] \n",
    "print(f\"y-intercept: {y_int}\")"
   ]
  },
  {
   "cell_type": "code",
   "execution_count": 72,
   "metadata": {},
   "outputs": [
    {
     "name": "stdout",
     "output_type": "stream",
     "text": [
      "Y = mx + b formula\n",
      "---------------------\n",
      "Usage = 58.333951092318536*year -29.792104259376973*month -108806.97588579185\n"
     ]
    }
   ],
   "source": [
    "print(f\"Y = mx + b formula\")\n",
    "print(\"---------------------\")\n",
    "print(f\"Usage = {coefyear}*year {coefmonth}*month {y_int}\")"
   ]
  },
  {
   "cell_type": "code",
   "execution_count": 73,
   "metadata": {},
   "outputs": [
    {
     "name": "stdout",
     "output_type": "stream",
     "text": [
      "actual value\n",
      "[6484.541]\n",
      "predicted value\n",
      "[6951.1238985]\n"
     ]
    }
   ],
   "source": [
    "print(\"actual value\")\n",
    "print(y[200])\n",
    "print(\"predicted value\")\n",
    "print(model.predict([X[200]])[0])"
   ]
  },
  {
   "cell_type": "code",
   "execution_count": 74,
   "metadata": {},
   "outputs": [
    {
     "data": {
      "text/plain": [
       "array(['1989', ' 09 '], dtype=object)"
      ]
     },
     "execution_count": 74,
     "metadata": {},
     "output_type": "execute_result"
    }
   ],
   "source": [
    "X[200]"
   ]
  },
  {
   "cell_type": "code",
   "execution_count": 75,
   "metadata": {},
   "outputs": [
    {
     "data": {
      "text/plain": [
       "array(['2020', '09'], dtype='<U4')"
      ]
     },
     "execution_count": 75,
     "metadata": {},
     "output_type": "execute_result"
    }
   ],
   "source": [
    "prediction = ['2020', '09']\n",
    "prediction_array = np.asarray(prediction)\n",
    "prediction_array"
   ]
  },
  {
   "cell_type": "code",
   "execution_count": 32,
   "metadata": {},
   "outputs": [
    {
     "data": {
      "text/plain": [
       "array(['1989', ' 09 '], dtype=object)"
      ]
     },
     "execution_count": 32,
     "metadata": {},
     "output_type": "execute_result"
    }
   ],
   "source": [
    "#model.predict([X[200]])[0]\n",
    "X[200]"
   ]
  },
  {
   "cell_type": "code",
   "execution_count": 76,
   "metadata": {},
   "outputs": [
    {
     "data": {
      "text/plain": [
       "array([2020.,    9.])"
      ]
     },
     "execution_count": 76,
     "metadata": {},
     "output_type": "execute_result"
    }
   ],
   "source": [
    "prediction_array = prediction_array.astype(float)\n",
    "prediction_array"
   ]
  },
  {
   "cell_type": "code",
   "execution_count": 77,
   "metadata": {},
   "outputs": [
    {
     "data": {
      "text/plain": [
       "array([[8759.47638236]])"
      ]
     },
     "execution_count": 77,
     "metadata": {},
     "output_type": "execute_result"
    }
   ],
   "source": [
    "model.predict([prediction_array])"
   ]
  },
  {
   "cell_type": "code",
   "execution_count": 78,
   "metadata": {},
   "outputs": [
    {
     "data": {
      "text/plain": [
       "array([[8822.81136316],\n",
       "       [8793.0192589 ],\n",
       "       [8763.22715464],\n",
       "       [8733.43505038],\n",
       "       [8703.64294612],\n",
       "       [8673.85084186],\n",
       "       [8644.0587376 ],\n",
       "       [8614.26663334],\n",
       "       [8584.47452908],\n",
       "       [8554.68242482],\n",
       "       [8524.89032056],\n",
       "       [8495.0982163 ],\n",
       "       [8881.14531425],\n",
       "       [8851.35320999],\n",
       "       [8821.56110573],\n",
       "       [8791.76900147],\n",
       "       [8761.97689721],\n",
       "       [8732.18479295],\n",
       "       [8702.39268869],\n",
       "       [8672.60058443],\n",
       "       [8642.80848017]])"
      ]
     },
     "execution_count": 78,
     "metadata": {},
     "output_type": "execute_result"
    }
   ],
   "source": [
    "model.predict(X_test)"
   ]
  },
  {
   "cell_type": "code",
   "execution_count": 83,
   "metadata": {},
   "outputs": [
    {
     "name": "stdout",
     "output_type": "stream",
     "text": [
      "[[8980.434]\n",
      " [7622.006]\n",
      " [8433.752]\n",
      " [7457.019]\n",
      " [7809.195]\n",
      " [7973.908]\n",
      " [8441.678]\n",
      " [8307.883]\n",
      " [7636.766]\n",
      " [7845.024]\n",
      " [8135.75 ]\n",
      " [9236.555]\n",
      " [9655.467]\n",
      " [8075.048]\n",
      " [8684.524]\n",
      " [7885.539]\n",
      " [8021.157]\n",
      " [8149.256]\n",
      " [8606.516]\n",
      " [8707.549]\n",
      " [7870.618]]\n"
     ]
    }
   ],
   "source": [
    "print(y_test)"
   ]
  },
  {
   "cell_type": "code",
   "execution_count": 81,
   "metadata": {},
   "outputs": [
    {
     "name": "stdout",
     "output_type": "stream",
     "text": [
      "percent error: [5.31856473] %\n"
     ]
    }
   ],
   "source": [
    "#forecast error = (actual - predicted) / actual\n",
    "\n",
    "actual = sum(y_test)\n",
    "predicted = sum(model.predict(X_test))\n",
    "\n",
    "error = (predicted - actual) / actual\n",
    "\n",
    "percent_error = error*100\n",
    "\n",
    "print(f\"percent error: {percent_error} %\")"
   ]
  },
  {
   "cell_type": "code",
   "execution_count": 86,
   "metadata": {},
   "outputs": [],
   "source": [
    "x_axis = dataframe1[\"Time\"].tail(21)\n",
    "y1 = y_test\n",
    "y2 = model.predict(X_test)"
   ]
  },
  {
   "cell_type": "code",
   "execution_count": 88,
   "metadata": {},
   "outputs": [],
   "source": [
    "import plotly\n",
    "import plotly.plotly as ply\n",
    "import cufflinks as cf\n",
    "from plotly.plotly import plot_mpl\n",
    "import plotly.graph_objs as go\n",
    "plotly.tools.set_credentials_file(username='disco_nap', api_key='84gBOgUqBKJnD1eR2tFV')\n"
   ]
  },
  {
   "cell_type": "code",
   "execution_count": null,
   "metadata": {},
   "outputs": [],
   "source": [
    "#make a plot of time v. predictions and time v. actuals"
   ]
  }
 ],
 "metadata": {
  "kernelspec": {
   "display_name": "Python [conda env:PythonData]",
   "language": "python",
   "name": "conda-env-PythonData-py"
  },
  "language_info": {
   "codemirror_mode": {
    "name": "ipython",
    "version": 3
   },
   "file_extension": ".py",
   "mimetype": "text/x-python",
   "name": "python",
   "nbconvert_exporter": "python",
   "pygments_lexer": "ipython3",
   "version": "3.6.7"
  }
 },
 "nbformat": 4,
 "nbformat_minor": 2
}
